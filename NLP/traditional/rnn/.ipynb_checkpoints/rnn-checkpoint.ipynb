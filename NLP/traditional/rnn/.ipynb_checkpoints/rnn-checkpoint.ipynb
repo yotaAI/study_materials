{
 "cells": [
  {
   "cell_type": "markdown",
   "id": "2e1e045b-5313-4ede-9464-53687ed9c937",
   "metadata": {},
   "source": [
    "## Train Tokenizer"
   ]
  },
  {
   "cell_type": "code",
   "execution_count": 5,
   "id": "6cd532c7-4eb1-4967-a4b1-6454756dac85",
   "metadata": {},
   "outputs": [],
   "source": [
    "from tokenizers import (\n",
    "    decoders,\n",
    "    models,\n",
    "    normalizers,\n",
    "    pre_tokenizers,\n",
    "    processors,\n",
    "    trainers,\n",
    "    Tokenizer,\n",
    ")\n",
    "from transformers import PreTrainedTokenizerFast\n",
    "from datasets import load_dataset\n",
    "import pandas as pd"
   ]
  },
  {
   "cell_type": "code",
   "execution_count": 6,
   "id": "ed7ad4a2-ff8c-45fa-8c39-4ecea4123bc1",
   "metadata": {},
   "outputs": [],
   "source": [
    "de_en = load_dataset(\"wmt/wmt14\",'de-en')"
   ]
  },
  {
   "cell_type": "code",
   "execution_count": 7,
   "id": "ce153d00-de7e-465d-bff4-ff030a06180a",
   "metadata": {},
   "outputs": [
    {
     "name": "stdout",
     "output_type": "stream",
     "text": [
      "\n",
      "\n",
      "\n"
     ]
    }
   ],
   "source": [
    "tokenzier_dataset=pd.DataFrame(de_en['train']['translation'])\n",
    "tokenzier_dataset['total']=tokenzier_dataset['de'] + ' ' + tokenzier_dataset['en']\n",
    "\n",
    "def get_training_corpus():\n",
    "    for i in range(0, len(tokenzier_dataset), 1000):\n",
    "        yield tokenzier_dataset[i : i + 1000][\"total\"]\n",
    "tokenizer = Tokenizer(models.WordPiece(unk_token=\"[UNK]\"))\n",
    "# tokenizer.normalizer = normalizers.BertNormalizer(lowercase=True)\n",
    "tokenizer.pre_tokenizer = pre_tokenizers.BertPreTokenizer()\n",
    "special_tokens = [\"[UNK]\", \"[PAD]\", \"[CLS]\", \"[SEP]\", \"[MASK]\",\"[BOS]\", \"[EOS]\"]\n",
    "trainer = trainers.WordPieceTrainer(vocab_size=52000, special_tokens=special_tokens)\n",
    "tokenizer.train_from_iterator(get_training_corpus(), trainer=trainer)"
   ]
  },
  {
   "cell_type": "code",
   "execution_count": 8,
   "id": "039b84d1-26e8-40a8-a346-48ca47c927fc",
   "metadata": {},
   "outputs": [],
   "source": [
    "rnn_tokenizer = PreTrainedTokenizerFast(\n",
    "    tokenizer_object=tokenizer,\n",
    "    unk_token=\"[UNK]\",\n",
    "    pad_token=\"[PAD]\",\n",
    "    bos_token=\"[BOS]\",\n",
    "    eos_token=\"[EOS]\",\n",
    "    cls_token=\"[CLS]\",\n",
    "    sep_token=\"[SEP]\",\n",
    "    mask_token=\"[MASK]\",\n",
    ")"
   ]
  },
  {
   "cell_type": "code",
   "execution_count": 9,
   "id": "7fb0b16b-93fa-4861-9878-27df0279cf5e",
   "metadata": {},
   "outputs": [
    {
     "data": {
      "text/plain": [
       "('tokenizer/tokenizer_config.json',\n",
       " 'tokenizer/special_tokens_map.json',\n",
       " 'tokenizer/tokenizer.json')"
      ]
     },
     "execution_count": 9,
     "metadata": {},
     "output_type": "execute_result"
    }
   ],
   "source": [
    "rnn_tokenizer.save_pretrained(\"tokenizer\")"
   ]
  },
  {
   "cell_type": "markdown",
   "id": "00f3cf7b-d66a-44ad-a55c-1fe0143842a8",
   "metadata": {},
   "source": [
    "## Preparing Model"
   ]
  },
  {
   "cell_type": "code",
   "execution_count": 8,
   "id": "f47edbb9-4f30-4e83-9224-481cc43abf3c",
   "metadata": {},
   "outputs": [],
   "source": [
    "import pandas as pd\n",
    "import numpy as np\n",
    "\n",
    "import torch\n",
    "from torch import nn,optim\n",
    "from datasets import load_dataset\n",
    "from transformers import AutoTokenizer\n",
    "from tqdm import tqdm"
   ]
  },
  {
   "cell_type": "code",
   "execution_count": 93,
   "id": "72545d70-af15-40a0-89e6-46f3627856cf",
   "metadata": {},
   "outputs": [],
   "source": [
    "class RNNConfig:\n",
    "    def __init__(self,\n",
    "                vocab_size=52000,\n",
    "                hidden_dim=128,\n",
    "                seq_len=512,\n",
    "                batch_size=2,\n",
    "                ):\n",
    "        self.vocab_size=vocab_size\n",
    "        self.hidden_dim=hidden_dim\n",
    "        self.seq_len = seq_len\n",
    "        self.batch_size=batch_size\n",
    "    \n",
    "class RNNLayer(nn.Module):\n",
    "    def __init__(self,config:RNNConfig):\n",
    "        super().__init__()\n",
    "        self.hidden_dim=config.hidden_dim\n",
    "        self.vocab_size=config.vocab_size\n",
    "        self.embedding = nn.Embedding(self.vocab_size,self.hidden_dim)\n",
    "        self.w_hx = nn.Linear(config.hidden_dim,config.hidden_dim,bias=False)\n",
    "        self.w_hh = nn.Linear(config.hidden_dim,config.hidden_dim,bias=False)\n",
    "        self.w_yh = nn.Linear(config.hidden_dim,config.vocab_size,bias=False)\n",
    "        self.sigmoid=nn.Sigmoid()\n",
    "    def __calculate_rnn(self,x,h):\n",
    "        ht = self.w_hx(x) + self.w_hh(h)\n",
    "        ht = self.sigmoid(ht)\n",
    "        yt = nn.functional.softmax(self.w_yh(ht))\n",
    "        return ht,yt\n",
    "        \n",
    "    def _training_step(self,input_ids,mask=None,h=None,labels=None):\n",
    "        \n",
    "        bsz,seq=input_ids.shape\n",
    "        \n",
    "        total_loss = 0\n",
    "        \n",
    "        if h is None:\n",
    "            h = torch.zeros((bsz,self.hidden_dim))\n",
    "        for i in range(seq):\n",
    "            h,y = self.forward(input_ids[:,i],h)\n",
    "            \n",
    "            # For masking the loss of the inputs and pad tokens and only calculating the loss for the labels.\n",
    "            y=y*mask[:,i:i+1]\n",
    "            \n",
    "            total_loss += nn.functional.nll_loss(y,labels[:,i])\n",
    "        print(total_loss)\n",
    "    \n",
    "    def forward(self,input_ids,h=None):\n",
    "        bsz=input_ids.shape[0] # X =(batch size, sequence length)\n",
    "        x = self.embedding(input_ids) #(batch size, sequence_length, hidden size)\n",
    "        \n",
    "        if h is None:\n",
    "            h = torch.zeros((bsz,self.hidden_dim))\n",
    "        # RNN Calculation\n",
    "        h,yt = self.__calculate_rnn(x,h)\n",
    "        return h,yt\n",
    "        \n",
    "class RNNDataset(torch.utils.data.Dataset):\n",
    "    def __init__(self,dataset,tokenizer,sequence_length):\n",
    "        self.dataset=dataset\n",
    "        self.tokenizer=tokenizer\n",
    "        self.params = {'padding':'max_length','max_length':sequence_length,'truncation':True,'return_tensors':'pt'}\n",
    "\n",
    "    def __len__(self):\n",
    "        return len(self.dataset)\n",
    "\n",
    "    def __getitem__(self,idx):\n",
    "        inputs= self.tokenizer.bos_token + self.dataset[idx]['de'] + self.tokenizer.sep_token + self.dataset[idx]['en'] \n",
    "        labels= self.dataset[idx]['de'] + self.tokenizer.sep_token + self.dataset[idx]['en'] + self.tokenizer.eos_token\n",
    "        input_ids = self.tokenizer.encode(inputs,**self.params)[0]\n",
    "        tokens = self.tokenizer(labels,**self.params)\n",
    "        labels=tokens['input_ids'][0]\n",
    "        mask=tokens['attention_mask'][0]\n",
    "        i = (labels==self.tokenizer.sep_token_id).nonzero()[0][0]\n",
    "        mask[:i+1]=0\n",
    "        \n",
    "        return input_ids,labels,mask\n",
    "model = RNNLayer(config)"
   ]
  },
  {
   "cell_type": "markdown",
   "id": "e37da5ad-03ef-46e2-8e00-59d2cd4a6e51",
   "metadata": {},
   "source": [
    "## Training RNN"
   ]
  },
  {
   "cell_type": "code",
   "execution_count": 94,
   "id": "34ab9150-fa6e-4540-a3ca-6fb28337cdd8",
   "metadata": {},
   "outputs": [],
   "source": [
    "config=RNNConfig()"
   ]
  },
  {
   "cell_type": "code",
   "execution_count": 95,
   "id": "3362c961-9efb-4da2-9461-b79bac4010d5",
   "metadata": {},
   "outputs": [],
   "source": [
    "tokenizer=AutoTokenizer.from_pretrained('gpt2')\n",
    "tokenizer.pad_token=\"<|endoftext|>\"\n",
    "tokenizer.cls_token=\"<|endoftext|>\"\n",
    "tokenizer.sep_token=\"<|endoftext|>\""
   ]
  },
  {
   "cell_type": "code",
   "execution_count": 40,
   "id": "4656da32-b410-42b3-b6d8-d4aef5773339",
   "metadata": {},
   "outputs": [],
   "source": [
    "de_en = load_dataset(\"wmt/wmt14\",'de-en')\n",
    "train_ds = RNNDataset(de_en['train']['translation'],tokenizer,100)\n",
    "train_loader=torch.utils.data.DataLoader(train_ds,batch_size=config.batch_size,shuffle=True)"
   ]
  },
  {
   "cell_type": "code",
   "execution_count": 96,
   "id": "b9d352f7-abcd-4323-a96b-d19aa0e3479d",
   "metadata": {},
   "outputs": [],
   "source": [
    "for (input_ids,labels,mask) in train_loader:\n",
    "    break"
   ]
  },
  {
   "cell_type": "code",
   "execution_count": 97,
   "id": "45384b62-8814-49f9-8b16-301b5dd64aee",
   "metadata": {},
   "outputs": [
    {
     "ename": "NameError",
     "evalue": "name 'x' is not defined",
     "output_type": "error",
     "traceback": [
      "\u001b[31m---------------------------------------------------------------------------\u001b[39m",
      "\u001b[31mNameError\u001b[39m                                 Traceback (most recent call last)",
      "\u001b[36mCell\u001b[39m\u001b[36m \u001b[39m\u001b[32mIn[97]\u001b[39m\u001b[32m, line 1\u001b[39m\n\u001b[32m----> \u001b[39m\u001b[32m1\u001b[39m \u001b[43mmodel\u001b[49m\u001b[43m.\u001b[49m\u001b[43m_training_step\u001b[49m\u001b[43m(\u001b[49m\u001b[43minput_ids\u001b[49m\u001b[43m,\u001b[49m\u001b[43mmask\u001b[49m\u001b[43m=\u001b[49m\u001b[43mmask\u001b[49m\u001b[43m,\u001b[49m\u001b[43mlabels\u001b[49m\u001b[43m=\u001b[49m\u001b[43mlabels\u001b[49m\u001b[43m)\u001b[49m\n",
      "\u001b[36mCell\u001b[39m\u001b[36m \u001b[39m\u001b[32mIn[93]\u001b[39m\u001b[32m, line 38\u001b[39m, in \u001b[36mRNNLayer._training_step\u001b[39m\u001b[34m(self, input_ids, mask, h, labels)\u001b[39m\n\u001b[32m     36\u001b[39m     h = torch.zeros((bsz,\u001b[38;5;28mself\u001b[39m.hidden_dim))\n\u001b[32m     37\u001b[39m \u001b[38;5;28;01mfor\u001b[39;00m i \u001b[38;5;129;01min\u001b[39;00m \u001b[38;5;28mrange\u001b[39m(seq):\n\u001b[32m---> \u001b[39m\u001b[32m38\u001b[39m     h,y = \u001b[38;5;28mself\u001b[39m.forward(\u001b[43mx\u001b[49m[:,i],h)\n\u001b[32m     40\u001b[39m     \u001b[38;5;66;03m# For masking the loss of the inputs and pad tokens and only calculating the loss for the labels.\u001b[39;00m\n\u001b[32m     41\u001b[39m     y=y*mask[:,i:i+\u001b[32m1\u001b[39m]\n",
      "\u001b[31mNameError\u001b[39m: name 'x' is not defined"
     ]
    }
   ],
   "source": [
    "model._training_step(input_ids,mask=mask,labels=labels)\n"
   ]
  },
  {
   "cell_type": "code",
   "execution_count": null,
   "id": "6e606c65-54ae-46be-aed6-57bf7b08365b",
   "metadata": {},
   "outputs": [],
   "source": []
  },
  {
   "cell_type": "code",
   "execution_count": 92,
   "id": "ef5eb6f2-2c9f-4226-836b-81f533fb9b48",
   "metadata": {},
   "outputs": [
    {
     "data": {
      "text/plain": [
       "tensor(0., grad_fn=<NllLossBackward0>)"
      ]
     },
     "execution_count": 92,
     "metadata": {},
     "output_type": "execute_result"
    }
   ],
   "source": [
    "torch.nn.functional.nll_loss(y,labels[:,0])"
   ]
  },
  {
   "cell_type": "code",
   "execution_count": 91,
   "id": "99fddb3b-210c-4bb8-aa3c-27a0327b6c53",
   "metadata": {},
   "outputs": [
    {
     "data": {
      "text/plain": [
       "tensor(-42.)"
      ]
     },
     "execution_count": 91,
     "metadata": {},
     "output_type": "execute_result"
    }
   ],
   "source": [
    "nn.functional.nll_loss(torch.tensor([1,2,0,42],dtype=torch.float32).unsqueeze(0),torch.tensor([3]))"
   ]
  },
  {
   "cell_type": "code",
   "execution_count": null,
   "id": "b721cf21-d4eb-438c-87dc-54db4866db55",
   "metadata": {},
   "outputs": [],
   "source": []
  },
  {
   "cell_type": "code",
   "execution_count": null,
   "id": "bef69fc8-195e-4e2c-9e8a-c9a16de06ac4",
   "metadata": {},
   "outputs": [],
   "source": []
  }
 ],
 "metadata": {
  "kernelspec": {
   "display_name": "Python 3 (ipykernel)",
   "language": "python",
   "name": "python3"
  },
  "language_info": {
   "codemirror_mode": {
    "name": "ipython",
    "version": 3
   },
   "file_extension": ".py",
   "mimetype": "text/x-python",
   "name": "python",
   "nbconvert_exporter": "python",
   "pygments_lexer": "ipython3",
   "version": "3.12.3"
  }
 },
 "nbformat": 4,
 "nbformat_minor": 5
}
